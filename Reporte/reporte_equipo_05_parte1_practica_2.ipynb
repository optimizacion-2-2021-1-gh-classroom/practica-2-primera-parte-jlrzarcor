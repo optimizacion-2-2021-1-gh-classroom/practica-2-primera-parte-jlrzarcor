{
 "cells": [
  {
   "cell_type": "markdown",
   "metadata": {
    "tags": []
   },
   "source": [
    "## Reporte Práctica 2 Primera Parte\n",
    "\n",
    "# HILL CLIMBING METHOD"
   ]
  },
  {
   "cell_type": "markdown",
   "metadata": {
    "tags": []
   },
   "source": [
    "###### Añadir identificación de celdas con el panel de kale\n",
    "###### Añadir validación del notebook en un contenedor de de docker con minikube y kubeflow"
   ]
  },
  {
   "cell_type": "markdown",
   "metadata": {
    "tags": []
   },
   "source": [
    "### Datasets"
   ]
  },
  {
   "cell_type": "markdown",
   "metadata": {
    "tags": []
   },
   "source": [
    "El paquete construido se compone de dos métodos, uno metaheurístico y el segundo. El primero de esto es Hill Climbing que utilizaremos para resolver el problema del viajero (TSP).\n",
    "\n",
    "### Hill Climbing \n",
    "\n",
    "El algoritmo de hill-climbing realiza seguimiento de un estado actual y en cada iteración se mueve al estado vecino con el valor más alto o menor, según sea el caso, es decir, se dirige en la dirección que proporciona el ascenso o descenso más empinado. Termina cuando alcanza un máximo o mínimo local. Hill climbing no mira hacia el futuro más allá de los vecinos inmediatos del estado actual. Esto se asemeja a tratar de encontrar la cima del Monte Everest en una espesa niebla mientras sufre de amnesia. Toma en cuenta que una forma de utilizar hill-climbing  consiste en utilizar el negativo de una función de coste heurística como función objetivo; que ascenderá localmente al estado con menor distancia heurística a la meta.\n",
    "\n",
    "Los problemas que tiene Hill Climbing son:\n",
    "\n",
    "MÁXIMA LOCAL: Un máximo local es un pico que es más alto que los estados vecinos pero menor que el máximo global. Cuando este algoritmo alcanzan las proximidades de un máximo local no podrá escapar de este, amenos que estemos tratando con un problema convexo.\n",
    "\n",
    "CORDILLERAS: Las cordilleras son un reto para los algoritmos de hill climbing que optimizan en espacios continuos. Debido a que los algoritmos de hill climbing ajustan solo un elemento en el vector a la vez, a cada paso se va a mover en una dirección alineada con el eje. Si la función objetivo determina una cordillera estrecha que asciende en una dirección no alineada con el eje, entonces el algoritmo de hill climbing solo puede ascender la cordillera en zigzag. Si los lados de la cordillera son muy pronunciados, entonces el algoritmo puede verse forzado a realizar pasos muy pequeños mientras zigzaguea hacia una mejor posición.\n",
    "\n",
    "MESETA: Se encuentra una meseta cuando el espacio de búsqueda es plano o lo suficientemente plano como para que el valor devuelto por la función objetivo sea indistinguible del valor devuelto para las regiones cercanas debido a la precisión utilizada por la máquina para representar la misma.\n"
   ]
  },
  {
   "cell_type": "markdown",
   "metadata": {
    "tags": []
   },
   "source": [
    "### Ejemplos"
   ]
  },
  {
   "cell_type": "code",
   "execution_count": 6,
   "metadata": {
    "tags": [
     "imports"
    ]
   },
   "outputs": [],
   "source": [
    "import Opt_HC_CG as opt\n",
    "import pandas as pd"
   ]
  },
  {
   "cell_type": "markdown",
   "metadata": {
    "tags": []
   },
   "source": [
    "### Transformaciones"
   ]
  },
  {
   "cell_type": "code",
   "execution_count": 11,
   "metadata": {
    "tags": [
     "block:loading_data",
     "limit:amd.com/gpu:1"
    ]
   },
   "outputs": [],
   "source": [
    "hc = pd.read_csv(\"../datasets/ca4663.tsp\", sep = \" \", names = ['index','x','y'])\n",
    "hc.drop(['index'], axis = 1, inplace = True)\n",
    "hc = hc.iloc[0:9,].to_numpy()"
   ]
  },
  {
   "cell_type": "code",
   "execution_count": 12,
   "metadata": {
    "tags": [
     "skip"
    ]
   },
   "outputs": [
    {
     "name": "stdout",
     "output_type": "stream",
     "text": [
      "[[41800.     82650.    ]\n",
      " [41966.6667 82533.3333]\n",
      " [41983.3333 82933.3333]\n",
      " [42033.3333 82750.    ]\n",
      " [42033.3333 82916.6667]\n",
      " [42050.     82583.3333]\n",
      " [42100.     82450.    ]\n",
      " [42100.     83100.    ]\n",
      " [42133.3333 82750.    ]]\n"
     ]
    }
   ],
   "source": [
    "print(hc)"
   ]
  },
  {
   "cell_type": "markdown",
   "metadata": {
    "tags": []
   },
   "source": [
    "Los puntos anteriores constituyen las 10 primeras ciudades de nuestro dataset, de las cuales nuestro algoritmo determinará la distancia más corta:"
   ]
  },
  {
   "cell_type": "code",
   "execution_count": 14,
   "metadata": {
    "tags": [
     "block:tp",
     "prev:loading_data",
     "limit:amd.com/gpu:1"
    ]
   },
   "outputs": [],
   "source": [
    "#distancias = opt.distance_matrix(hc)\n",
    "best_distance, bes_path, routes_tried = opt.best_solution(hc, 1 , 1e-11)"
   ]
  },
  {
   "cell_type": "markdown",
   "metadata": {
    "tags": []
   },
   "source": [
    "Con base en Hill Climbing, la distancia más corta que ha encontrado el algoritmo es:"
   ]
  },
  {
   "cell_type": "code",
   "execution_count": 15,
   "metadata": {
    "tags": []
   },
   "outputs": [
    {
     "data": {
      "text/plain": [
       "1700.9338841023025"
      ]
     },
     "execution_count": 15,
     "metadata": {},
     "output_type": "execute_result"
    }
   ],
   "source": [
    "best_distance"
   ]
  },
  {
   "cell_type": "markdown",
   "metadata": {
    "tags": []
   },
   "source": [
    "La ruta óptima esta daterminada por los siguientes nodos-ciudad:"
   ]
  },
  {
   "cell_type": "code",
   "execution_count": 16,
   "metadata": {
    "tags": []
   },
   "outputs": [
    {
     "data": {
      "text/plain": [
       "[1, 6, 5, 3, 8, 4, 7, 2, 0, 1]"
      ]
     },
     "execution_count": 16,
     "metadata": {},
     "output_type": "execute_result"
    }
   ],
   "source": [
    "bes_path"
   ]
  },
  {
   "cell_type": "markdown",
   "metadata": {
    "tags": []
   },
   "source": [
    "Finalmente, nuestro algoritmo analizó un total de rutas distintas de:"
   ]
  },
  {
   "cell_type": "code",
   "execution_count": 17,
   "metadata": {
    "tags": [
     "block:endstep"
    ]
   },
   "outputs": [
    {
     "data": {
      "text/plain": [
       "24641"
      ]
     },
     "execution_count": 17,
     "metadata": {},
     "output_type": "execute_result"
    }
   ],
   "source": [
    "len(routes_tried)"
   ]
  }
 ],
 "metadata": {
  "kernelspec": {
   "display_name": "Python 3",
   "language": "python",
   "name": "python3"
  },
  "kubeflow_notebook": {
   "autosnapshot": false,
   "docker_image": "lobolc/pkg:0.1",
   "experiment": {
    "id": "",
    "name": ""
   },
   "experiment_name": "",
   "katib_metadata": {
    "algorithm": {
     "algorithmName": "grid"
    },
    "maxFailedTrialCount": 3,
    "maxTrialCount": 12,
    "objective": {
     "objectiveMetricName": "",
     "type": "minimize"
    },
    "parallelTrialCount": 3,
    "parameters": []
   },
   "katib_run": false,
   "pipeline_description": "determine the shortest Path for Traveling Salesman Problem",
   "pipeline_name": "tsphillclimbing",
   "snapshot_volumes": false,
   "steps_defaults": [],
   "storage_class_name": "",
   "volume_access_mode": "rwm",
   "volumes": [
    {
     "annotations": [],
     "mount_point": "/shared_volume/",
     "name": "hostpath-pvc",
     "size": 1,
     "size_type": "Gi",
     "snapshot": false,
     "snapshot_name": "",
     "type": "pvc"
    }
   ]
  },
  "language_info": {
   "codemirror_mode": {
    "name": "ipython",
    "version": 3
   },
   "file_extension": ".py",
   "mimetype": "text/x-python",
   "name": "python",
   "nbconvert_exporter": "python",
   "pygments_lexer": "ipython3",
   "version": "3.6.9"
  }
 },
 "nbformat": 4,
 "nbformat_minor": 5
}
