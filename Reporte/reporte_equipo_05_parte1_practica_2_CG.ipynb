{
 "cells": [
  {
   "cell_type": "markdown",
   "metadata": {
    "tags": []
   },
   "source": [
    "## Reporte Práctica 2 Primera Parte\n",
    "\n",
    "# EJEMPLO MÉTODO GRADIENTE CONJUGADO\n",
    "\n",
    "Para este método, utilizaremos el dataset de Breast Cancer Wisconsin para \n",
    "\n",
    "\n",
    "### Gradiente Conjugado\n",
    "\n",
    "El método del gradiente conjugado por su siglas en íngles CGM, es metodo iterativo para resolver sistemas de ecuaciones lineales.\n",
    "\n",
    "\n",
    "$$Ax = b$$\n",
    "\n",
    "\n",
    "Donde Anxn is una matriz definida pooitiva. Este problema es equivalente al problema de minimización:\n",
    "\n",
    "$$min\\phi(x) = \\frac{1}{2}x^{T}Ax-b^{T}x$$\n",
    "\n",
    "El gradiente de $\\phi$ es igual al residual del sistema lineal,\n",
    "\n",
    "$$\\nabla\\phi(x) = Ax -b := r(x)$$\n",
    "\n",
    "En particular en $x = x_{k}$, tenemos:\n",
    "\n",
    "$$r_{k} = Ax_{k} - b$$\n",
    "\n",
    "\n"
   ]
  },
  {
   "cell_type": "code",
   "execution_count": 37,
   "metadata": {
    "tags": [
     "imports"
    ]
   },
   "outputs": [],
   "source": [
    "import Opt_HC_CG as opt\n",
    "import pandas as pd\n",
    "import numpy as np\n",
    "from sklearn.preprocessing import StandardScaler"
   ]
  },
  {
   "cell_type": "code",
   "execution_count": 50,
   "metadata": {
    "tags": []
   },
   "outputs": [],
   "source": [
    "dataset_bcw = np.loadtxt(\"../datasets/breast_cancer_wisconsin_(original)_dataset.txt\", delimiter = ',')"
   ]
  },
  {
   "cell_type": "code",
   "execution_count": 110,
   "metadata": {},
   "outputs": [],
   "source": [
    "target_bcw = dataset_bcw[:,0]\n",
    "data_bcw = dataset_bcw[ : , 1:29]\n",
    "std_transform = StandardScaler()\n",
    "dat_bcw_sca = std_transform.fit_transform(data_bcw)\n",
    "betas = np.ones([dat_bcw_sca.shape[0]+1,dat_bcw_sca.shape[1]])\n",
    "betas = betas"
   ]
  },
  {
   "cell_type": "code",
   "execution_count": 111,
   "metadata": {},
   "outputs": [],
   "source": [
    "def yhat(beta0,beta,x):\n",
    "    \n",
    "    y = 1/(1+np.exp(-(beta0+beta@x.T)))    \n",
    "    return y"
   ]
  },
  {
   "cell_type": "code",
   "execution_count": 136,
   "metadata": {},
   "outputs": [],
   "source": [
    "beta0 = np.array([1/29])\n",
    "beta = (np.ones(dat_bcw_sca.shape[1]).T)*1/29\n",
    "P = np.diag((yhat(beta0,beta,dat_bcw_sca)*(1-yhat(beta0,beta,dat_bcw_sca))))"
   ]
  },
  {
   "cell_type": "code",
   "execution_count": 137,
   "metadata": {},
   "outputs": [],
   "source": [
    "hessiana = 2*dat_bcw_sca.T@P@dat_bcw_sca"
   ]
  },
  {
   "cell_type": "code",
   "execution_count": 138,
   "metadata": {},
   "outputs": [],
   "source": [
    "fo = -2*dat_bcw_sca.T@(yhat(beta0,beta,dat_bcw_sca)-target_bcw)"
   ]
  },
  {
   "cell_type": "code",
   "execution_count": 139,
   "metadata": {},
   "outputs": [],
   "source": [
    "v=np.ones(28)\n",
    "optime = opt.cgm(hessiana, fo, v)"
   ]
  },
  {
   "cell_type": "code",
   "execution_count": 140,
   "metadata": {},
   "outputs": [],
   "source": [
    "inversed = std_transform.inverse_transform(optime)"
   ]
  },
  {
   "cell_type": "code",
   "execution_count": 141,
   "metadata": {},
   "outputs": [
    {
     "data": {
      "text/plain": [
       "array([-1.65450530e+00,  1.90110048e+01,  1.72802949e+02,  9.60416713e+02,\n",
       "        9.51395224e-02,  4.71338005e-02,  1.37950413e-01,  6.00628539e-02,\n",
       "        1.82634007e-01,  6.48256596e-02,  5.34576133e-01,  1.17068317e+00,\n",
       "        2.15958316e+00,  4.52154265e+01,  7.51073251e-03,  2.60530402e-02,\n",
       "        1.09561033e-02,  1.32488873e-02,  2.16111319e-02,  3.42759042e-03,\n",
       "        3.56110210e+01,  2.73184923e+01,  1.06772720e+02, -8.14023931e+02,\n",
       "        1.34253236e-01,  3.06292004e-01,  3.50235091e-01,  1.15574358e-01])"
      ]
     },
     "execution_count": 141,
     "metadata": {},
     "output_type": "execute_result"
    }
   ],
   "source": [
    "inversed"
   ]
  },
  {
   "cell_type": "code",
   "execution_count": 142,
   "metadata": {},
   "outputs": [
    {
     "data": {
      "text/plain": [
       "array([-4.41223326e+00, -5.67162220e-02,  3.28335126e+00,  8.52704649e-01,\n",
       "       -1.03480456e-01, -1.10081558e+00,  5.99993765e-01,  2.69912797e-01,\n",
       "        3.70845536e-02,  2.62236726e-01,  4.59845153e-01, -8.49686519e-02,\n",
       "       -3.44278439e-01,  9.92390661e-02,  1.47957563e-01,  1.64034173e-02,\n",
       "       -6.88797261e-01,  2.16181769e-01,  1.27616455e-01, -1.55815844e-01,\n",
       "        3.99449197e+00,  2.86412102e-01, -7.50736561e-03, -2.94567031e+00,\n",
       "        7.67747698e-02,  3.22444373e-01,  3.61534595e-01,  3.33531384e-03])"
      ]
     },
     "execution_count": 142,
     "metadata": {},
     "output_type": "execute_result"
    }
   ],
   "source": [
    "np.linalg.solve(hessiana, fo)"
   ]
  },
  {
   "cell_type": "code",
   "execution_count": 143,
   "metadata": {},
   "outputs": [
    {
     "data": {
      "text/plain": [
       "array([-4.41223326e+00, -5.67162220e-02,  3.28335126e+00,  8.52704649e-01,\n",
       "       -1.03480456e-01, -1.10081558e+00,  5.99993765e-01,  2.69912797e-01,\n",
       "        3.70845536e-02,  2.62236726e-01,  4.59845153e-01, -8.49686519e-02,\n",
       "       -3.44278439e-01,  9.92390660e-02,  1.47957563e-01,  1.64034173e-02,\n",
       "       -6.88797261e-01,  2.16181769e-01,  1.27616455e-01, -1.55815844e-01,\n",
       "        3.99449197e+00,  2.86412102e-01, -7.50736561e-03, -2.94567031e+00,\n",
       "        7.67747698e-02,  3.22444373e-01,  3.61534595e-01,  3.33531384e-03])"
      ]
     },
     "execution_count": 143,
     "metadata": {},
     "output_type": "execute_result"
    }
   ],
   "source": [
    "optime"
   ]
  },
  {
   "cell_type": "code",
   "execution_count": null,
   "metadata": {},
   "outputs": [],
   "source": []
  },
  {
   "cell_type": "code",
   "execution_count": null,
   "metadata": {},
   "outputs": [],
   "source": []
  },
  {
   "cell_type": "code",
   "execution_count": null,
   "metadata": {},
   "outputs": [],
   "source": []
  },
  {
   "cell_type": "code",
   "execution_count": null,
   "metadata": {},
   "outputs": [],
   "source": []
  }
 ],
 "metadata": {
  "kernelspec": {
   "display_name": "Python 3",
   "language": "python",
   "name": "python3"
  },
  "kubeflow_notebook": {
   "autosnapshot": false,
   "docker_image": "lobolc/pkg:0.1",
   "experiment": {
    "id": "",
    "name": ""
   },
   "experiment_name": "",
   "katib_metadata": {
    "algorithm": {
     "algorithmName": "grid"
    },
    "maxFailedTrialCount": 3,
    "maxTrialCount": 12,
    "objective": {
     "objectiveMetricName": "",
     "type": "minimize"
    },
    "parallelTrialCount": 3,
    "parameters": []
   },
   "katib_run": false,
   "pipeline_description": "Optimize LogisticRegression Problems trhough minimize deviance.",
   "pipeline_name": "conjgradient",
   "snapshot_volumes": false,
   "steps_defaults": [],
   "storage_class_name": "",
   "volume_access_mode": "rwm",
   "volumes": [
    {
     "annotations": [],
     "mount_point": "/shared_volume/",
     "name": "hostpath-pvc",
     "size": 1,
     "size_type": "Gi",
     "snapshot": false,
     "snapshot_name": "",
     "type": "pvc"
    }
   ]
  },
  "language_info": {
   "codemirror_mode": {
    "name": "ipython",
    "version": 3
   },
   "file_extension": ".py",
   "mimetype": "text/x-python",
   "name": "python",
   "nbconvert_exporter": "python",
   "pygments_lexer": "ipython3",
   "version": "3.6.9"
  }
 },
 "nbformat": 4,
 "nbformat_minor": 5
}
