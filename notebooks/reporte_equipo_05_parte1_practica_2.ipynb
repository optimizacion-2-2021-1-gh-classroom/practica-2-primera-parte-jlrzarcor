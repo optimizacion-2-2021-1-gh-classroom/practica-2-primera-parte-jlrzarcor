{
 "cells": [
  {
   "cell_type": "markdown",
   "id": "separate-slovak",
   "metadata": {},
   "source": [
    "## Reporte Práctica 2 Primera Parte"
   ]
  },
  {
   "cell_type": "markdown",
   "id": "fresh-aluminum",
   "metadata": {},
   "source": [
    "###### Añadir identificación de celdas con el panel de kale\n",
    "###### Añadir validación del notebook en un contenedor de de docker con minikube y kubeflow"
   ]
  },
  {
   "cell_type": "markdown",
   "id": "existing-serve",
   "metadata": {},
   "source": [
    "### Datasets"
   ]
  },
  {
   "cell_type": "markdown",
   "metadata": {},
   "source": [
    "El paquete construido se compone de dos métodos, uno metaheurístico y el segundo. El primero de esto es Hill Climbing que utilizaremos para resolver el problema del viajero (TSP).\n",
    "\n",
    "### Hill Climbing \n",
    "\n",
    "El algoritmo de hill-climbing realiza seguimiento de un estado actual y en cada iteración se mueve al estado vecino con el valor más alto o menor, según sea el caso, es decir, se dirige en la dirección que proporciona el ascenso o descenso más empinado. Termina cuando alcanza un máximo o mínimo local. Hill climbing no mira hacia el futuro más allá de los vecinos inmediatos del estado actual. Esto se asemeja a tratar de encontrar la cima del Monte Everest en una espesa niebla mientras sufre de amnesia. Toma en cuenta que una forma de utilizar hill-climbing  consiste en utilizar el negativo de una función de coste heurística como función objetivo; que ascenderá localmente al estado con menor distancia heurística a la meta.\n",
    "\n",
    "Los problemas que tiene Hill Climbing son:\n",
    "\n",
    "MÁXIMA LOCAL: Un máximo local es un pico que es más alto que los estados vecinos pero menor que el máximo global. Cuando este algoritmo alcanzan las proximidades de un máximo local no podrá escapar de este, amenos que estemos tratando con un problema convexo.\n",
    "\n",
    "CORDILLERAS: Las cordilleras son un reto para los algoritmos de hill climbing que optimizan en espacios continuos. Debido a que los algoritmos de hill climbing ajustan solo un elemento en el vector a la vez, a cada paso se va a mover en una dirección alineada con el eje. Si la función objetivo determina una cordillera estrecha que asciende en una dirección no alineada con el eje, entonces el algoritmo de hill climbing solo puede ascender la cordillera en zigzag. Si los lados de la cordillera son muy pronunciados, entonces el algoritmo puede verse forzado a realizar pasos muy pequeños mientras zigzaguea hacia una mejor posición.\n",
    "\n",
    "MESETA: Se encuentra una meseta cuando el espacio de búsqueda es plano o lo suficientemente plano como para que el valor devuelto por la función objetivo sea indistinguible del valor devuelto para las regiones cercanas debido a la precisión utilizada por la máquina para representar la misma.\n",
    "\n",
    "\n",
    "### Gradiente Conjugado\n",
    "\n",
    "El método del gradiente conjugado por su siglas en íngles CGM, es metodo iterativo para resolver sistemas de ecuaciones lineales.\n",
    "\n",
    "\n",
    "$$Ax = b$$\n",
    "\n",
    "\n",
    "Donde Anxn is una matriz definida pooitiva. Este problema es equivalente al problema de minimización:\n",
    "\n",
    "$$min\\phi(x) = \\frac{1}{2}x^{T}Ax-b^{T}x$$\n",
    "\n",
    "El gradiente de $\\phi$ es igual al residual del sistema lineal,\n",
    "\n",
    "$$\\nabla\\phi(x) = Ax -b := r(x)$$\n",
    "\n",
    "En particular en $x = x_{k}$, tenemos:\n",
    "\n",
    "$$r_{k} = Ax_{k} - b$$\n",
    "\n"
   ]
  },
  {
   "cell_type": "markdown",
   "id": "dried-ensemble",
   "metadata": {},
   "source": [
    "### Ejemplos"
   ]
  },
  {
   "cell_type": "code",
   "execution_count": null,
   "id": "beautiful-commission",
   "metadata": {},
   "outputs": [],
   "source": []
  },
  {
   "cell_type": "markdown",
   "id": "unique-accent",
   "metadata": {},
   "source": [
    "### Resultados"
   ]
  },
  {
   "cell_type": "code",
   "execution_count": null,
   "id": "ready-lighter",
   "metadata": {},
   "outputs": [],
   "source": []
  },
  {
   "cell_type": "code",
   "execution_count": null,
   "id": "formal-serbia",
   "metadata": {},
   "outputs": [],
   "source": []
  },
  {
   "cell_type": "code",
   "execution_count": null,
   "id": "sapphire-dallas",
   "metadata": {},
   "outputs": [],
   "source": []
  },
  {
   "cell_type": "code",
   "execution_count": null,
   "id": "played-smooth",
   "metadata": {},
   "outputs": [],
   "source": []
  },
  {
   "cell_type": "code",
   "execution_count": null,
   "id": "owned-needle",
   "metadata": {},
   "outputs": [],
   "source": []
  }
 ],
 "metadata": {
  "kernelspec": {
   "display_name": "optimizacion",
   "language": "python",
   "name": "optimizacion"
  },
  "language_info": {
   "codemirror_mode": {
    "name": "ipython",
    "version": 3
   },
   "file_extension": ".py",
   "mimetype": "text/x-python",
   "name": "python",
   "nbconvert_exporter": "python",
   "pygments_lexer": "ipython3",
   "version": "3.8.0"
  }
 },
 "nbformat": 4,
 "nbformat_minor": 5
}
