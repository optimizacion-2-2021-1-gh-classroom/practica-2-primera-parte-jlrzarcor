{
 "cells": [
  {
   "cell_type": "code",
   "execution_count": 2,
   "id": "healthy-cement",
   "metadata": {},
   "outputs": [],
   "source": [
    "import numpy as np\n",
    "from itertools import permutations\n",
    "import matplotlib.pyplot as plt"
   ]
  },
  {
   "cell_type": "code",
   "execution_count": 3,
   "id": "engaged-accessory",
   "metadata": {},
   "outputs": [],
   "source": [
    "def places(map_size, places):\n",
    "    \"\"\"\n",
    "    Function tha generate coordinates for places to be visited\n",
    "    \n",
    "    inputs:\n",
    "        map_size: max cordinate number available\n",
    "        places: number of places required\n",
    "    output:\n",
    "        numpy array with the palces coordinates to visit \n",
    "    \"\"\"\n",
    "    return np.random.randint(map_size + 1, size = (places, 2))"
   ]
  },
  {
   "cell_type": "code",
   "execution_count": 17,
   "id": "intimate-rainbow",
   "metadata": {},
   "outputs": [
    {
     "data": {
      "image/png": "[encoded data removed]",
      "text/plain": [
       "<Figure size 432x288 with 1 Axes>"
      ]
     },
     "metadata": {
      "needs_background": "light"
     },
     "output_type": "display_data"
    }
   ],
   "source": [
    "a = places(100, 15)\n",
    "x = a[:,0]\n",
    "y = a[:,1]\n",
    "plt.scatter(x,y)\n",
    "plt.show()"
   ]
  },
  {
   "cell_type": "code",
   "execution_count": 149,
   "id": "danish-thomson",
   "metadata": {},
   "outputs": [],
   "source": [
    "def distance_matrix(points):\n",
    "    \"\"\"\n",
    "    calculate the distance among each suggest solution points\n",
    "    \n",
    "    input:\n",
    "        points: array containig the points to be visited\n",
    "    outputs:\n",
    "        matrix: nxn array with distances among solution points\n",
    "    \"\"\"\n",
    "    coordinates = points\n",
    "    matrix = []\n",
    "    for i in range(len(coordinates)):\n",
    "        for j in range(len(coordinates)) :       \n",
    "            p = np.linalg.norm(coordinates[i] - coordinates[j])\n",
    "            matrix.append(p)\n",
    "    return np.reshape(matrix, (len(coordinates),len(coordinates)))  "
   ]
  },
  {
   "cell_type": "code",
   "execution_count": 56,
   "id": "foster-boring",
   "metadata": {},
   "outputs": [],
   "source": [
    "def random_solution(points):\n",
    "    \"\"\"\n",
    "    create a random solution with the places to be visited\n",
    "    input:\n",
    "        points: array with the places for visiting \n",
    "    output:\n",
    "        array: input randomly rearrange \n",
    "    \"\"\"\n",
    "    points_order = list(range(0, points)) \n",
    "    temp_solution = []\n",
    "    for i in range(places):\n",
    "        random_point = np.random.choice(points_order)\n",
    "        temp_solution.append(random_point)\n",
    "        points_order.remove(random_point)\n",
    "    return temp_solution        "
   ]
  },
  {
   "cell_type": "code",
   "execution_count": 145,
   "id": "reserved-biotechnology",
   "metadata": {},
   "outputs": [],
   "source": [
    "def calculate_distance(points, random_solution):\n",
    "    \"\"\"\n",
    "    returns the distance associated with a solution \n",
    "    input:\n",
    "        points: \n",
    "    \"\"\"\n",
    "    matrix = distance_matrix(points)\n",
    "    distance = 0\n",
    "    for i in range(len(random_solution)):\n",
    "        distance += matrix[random_solution[i]][random_solution[i - 1]]\n",
    "    return distance"
   ]
  },
  {
   "cell_type": "code",
   "execution_count": 162,
   "id": "exotic-keeping",
   "metadata": {},
   "outputs": [],
   "source": [
    "def other_solutionts(first_solution, places, num_solution):\n",
    "    pos_sol = []\n",
    "    pos_sol.append(first_solution)\n",
    "    for i in range(num_solution - 1):\n",
    "        temp_sol = random_solution(places)\n",
    "        \n",
    "        if temp_sol not in pos_sol:\n",
    "            pos_sol.append(temp_sol)\n",
    "    \n",
    "    return pos_sol  "
   ]
  },
  {
   "cell_type": "code",
   "execution_count": 173,
   "id": "pleased-injury",
   "metadata": {},
   "outputs": [],
   "source": [
    "def best_solution(points, first_solution):\n",
    "    best_sol = first_solution\n",
    "    distance = calculate_distance(points, first_solution)\n",
    "    dist = []\n",
    "    solutions = other_solutionts(c, 15, 200)\n",
    "    for pos_sol in solutions:\n",
    "        pos_dist = calculate_distance(points, pos_sol)\n",
    "        if distance > pos_dist:\n",
    "            best_distance = pos_dist\n",
    "            best_sol = pos_sol\n",
    "    return best_distance, best_sol"
   ]
  },
  {
   "cell_type": "code",
   "execution_count": 177,
   "id": "pressing-president",
   "metadata": {},
   "outputs": [],
   "source": [
    "best_distance, best_sol = best_solution(a, c)"
   ]
  },
  {
   "cell_type": "code",
   "execution_count": 178,
   "id": "purple-sydney",
   "metadata": {},
   "outputs": [
    {
     "data": {
      "text/plain": [
       "668.25193306426"
      ]
     },
     "execution_count": 178,
     "metadata": {},
     "output_type": "execute_result"
    }
   ],
   "source": [
    "best_distance"
   ]
  },
  {
   "cell_type": "code",
   "execution_count": 179,
   "id": "bridal-dairy",
   "metadata": {},
   "outputs": [
    {
     "data": {
      "text/plain": [
       "[8, 2, 5, 10, 0, 7, 4, 11, 6, 13, 3, 1, 9, 14, 12]"
      ]
     },
     "execution_count": 179,
     "metadata": {},
     "output_type": "execute_result"
    }
   ],
   "source": [
    "best_sol"
   ]
  },
  {
   "cell_type": "code",
   "execution_count": null,
   "id": "virgin-current",
   "metadata": {},
   "outputs": [],
   "source": []
  },
  {
   "cell_type": "code",
   "execution_count": 161,
   "id": "impaired-occasions",
   "metadata": {},
   "outputs": [
    {
     "data": {
      "text/plain": [
       "201"
      ]
     },
     "execution_count": 161,
     "metadata": {},
     "output_type": "execute_result"
    }
   ],
   "source": [
    "len(k)"
   ]
  },
  {
   "cell_type": "code",
   "execution_count": null,
   "id": "legislative-spanking",
   "metadata": {},
   "outputs": [],
   "source": []
  },
  {
   "cell_type": "code",
   "execution_count": null,
   "id": "caring-marker",
   "metadata": {},
   "outputs": [],
   "source": []
  }
 ],
 "metadata": {
  "kernelspec": {
   "display_name": "optimizacion",
   "language": "python",
   "name": "optimizacion"
  },
  "language_info": {
   "codemirror_mode": {
    "name": "ipython",
    "version": 3
   },
   "file_extension": ".py",
   "mimetype": "text/x-python",
   "name": "python",
   "nbconvert_exporter": "python",
   "pygments_lexer": "ipython3",
   "version": "3.8.0"
  }
 },
 "nbformat": 4,
 "nbformat_minor": 5
}
