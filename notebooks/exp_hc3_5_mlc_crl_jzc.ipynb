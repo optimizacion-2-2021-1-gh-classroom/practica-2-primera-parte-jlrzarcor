{
 "cells": [
  {
   "cell_type": "markdown",
   "metadata": {
    "tags": []
   },
   "source": [
    "### Maestría en Ciencia de Datos, ITAM\n",
    "\n",
    "  **Curso de Optimización 2 2021-1,\"Optimización Avanzada\"**  \n",
    "  **Prof. Erick Palacios Moreno**\n",
    "\n",
    "> * Equipo 5:  \n",
    "MIGUEL LOPEZ  \n",
    "CARLOS LOPEZ  \n",
    "JOSÉ ZARATE\n",
    "\n",
    "**EXPERIMENTACIÓN. Uso de herramientas de kale, kubeflow, minikube para detectar con qué valores no funcionan sus programas.**\n",
    "____\n",
    "## RESOLVER EL PROBLEMA DE TRAVELING SALESMAN PROBLEM (A.K.A. TSP) PARA DISTINTAS CIUDADES UTILIZANDO EL MÉTODO DE HILL CLIMBING\n",
    "\n",
    " * Distancia Euclideana.\n",
    "\n",
    "> Dataset: [National Traveling Salesman Problems, CANADA](https://www.math.uwaterloo.ca/tsp/world/countries.html)\n",
    "\n",
    "-------\n",
    "**EXPERIMENTO 1:**\n",
    "\n",
    "Los parámetros considerados para nuestro algoritmo son:\n",
    "   * Tolerancia: 10e-7, considera la norma eculideana de la distancia total recorrida entre dos rutas distintas como criterio de selección y termina la búsqueda en el momento en que la distancia total rec\n",
    "   * Punto inicial: seleccionar el índice de la ciudad donde inicia la búsqueda de la ruta más corta con un punto predefinido. \n",
    "\n",
    "**NOTA**: Para este primer experimento, seleccionaremos algunas modificaciones en los parámetros mencionados anteriormente. No obstante, hemos observado que hasta 9 ciudades el algoritmo responde en un periodo razonable de tiempo de búsqueda, por lo que se le indica al equipo de programación poder revisar el código por si existe alguna imprecisión; de no existir, buscaremos optimizar el código en la siguiente práctica por medio de un análisis de perfilamiento y la consecuente reprogramación y finalmente cómputo en paralelo. \n",
    "\n",
    "----"
   ]
  },
  {
   "cell_type": "code",
   "execution_count": 1,
   "metadata": {
    "tags": [
     "imports"
    ]
   },
   "outputs": [],
   "source": [
    "import Opt_HC_CG as opt\n",
    "import pandas as pd"
   ]
  },
  {
   "cell_type": "markdown",
   "metadata": {
    "tags": []
   },
   "source": [
    "**Transformaciones y Selección de Nodos-ciudad**\n",
    "\n",
    "En este primer experimento seleccionamos solamente 9 cidudad para validar que efectivamente el algoritmo resuelve el problema TSP, particularmente porque observamos que uno de los temas importantes a resolver es el tiempo de búsqueda."
   ]
  },
  {
   "cell_type": "code",
   "execution_count": 2,
   "metadata": {
    "tags": [
     "block:loaddata"
    ]
   },
   "outputs": [],
   "source": [
    "dataset_hc = pd.read_csv(\"../datasets/ca4663.tsp\", sep = \" \", names = ['index','x','y'])"
   ]
  },
  {
   "cell_type": "markdown",
   "metadata": {
    "tags": []
   },
   "source": [
    "Observamos la estructura de los coordenadas de nuestros datos:"
   ]
  },
  {
   "cell_type": "code",
   "execution_count": 3,
   "metadata": {
    "tags": [
     "skip"
    ]
   },
   "outputs": [
    {
     "name": "stdout",
     "output_type": "stream",
     "text": [
      "     index           x            y\n",
      "0        1  41800.0000   82650.0000\n",
      "1        2  41966.6667   82533.3333\n",
      "2        3  41983.3333   82933.3333\n",
      "3        4  42033.3333   82750.0000\n",
      "4        5  42033.3333   82916.6667\n",
      "...    ...         ...          ...\n",
      "4659  4660  78783.3333  103533.3333\n",
      "4660  4661  80216.6667   86183.3333\n",
      "4661  4662  81716.6667   64716.6667\n",
      "4662  4663  82483.3333   62250.0000\n",
      "4663   EOF         NaN          NaN\n",
      "\n",
      "[4664 rows x 3 columns]\n"
     ]
    }
   ],
   "source": [
    "print(dataset_hc)"
   ]
  },
  {
   "cell_type": "code",
   "execution_count": 4,
   "metadata": {
    "tags": [
     "block:cleaner"
    ]
   },
   "outputs": [],
   "source": [
    "dataset_hc.drop(['index'], axis = 1, inplace = True)\n",
    "dataset_hc.dropna(inplace = True)\n",
    "dataset_hc = dataset_hc.iloc[0:11,].to_numpy()"
   ]
  },
  {
   "cell_type": "markdown",
   "metadata": {
    "tags": []
   },
   "source": [
    "Los puntos anteriores constituyen las 11 primeras ciudades de nuestro dataset, de las cuales nuestro algoritmo determinará la distancia más corta.\n",
    "\n",
    "----\n",
    "\n",
    "**Primer selección de parámetros:**\n",
    "> * Punto inicial: 1\n",
    "> * Tolerancia: 1e-7"
   ]
  },
  {
   "cell_type": "code",
   "execution_count": 5,
   "metadata": {
    "tags": [
     "block:solve1",
     "prev:cleaner"
    ]
   },
   "outputs": [
    {
     "ename": "KeyboardInterrupt",
     "evalue": "",
     "output_type": "error",
     "traceback": [
      "\u001b[0;31m---------------------------------------------------------------------------\u001b[0m",
      "\u001b[0;31mKeyboardInterrupt\u001b[0m                         Traceback (most recent call last)",
      "\u001b[0;32m<ipython-input-5-c4d9af2f5982>\u001b[0m in \u001b[0;36m<module>\u001b[0;34m\u001b[0m\n\u001b[0;32m----> 1\u001b[0;31m \u001b[0mbest_distance\u001b[0m\u001b[0;34m,\u001b[0m \u001b[0mbes_path\u001b[0m\u001b[0;34m,\u001b[0m \u001b[0mroutes_tried\u001b[0m \u001b[0;34m=\u001b[0m \u001b[0mopt\u001b[0m\u001b[0;34m.\u001b[0m\u001b[0mbest_solution\u001b[0m\u001b[0;34m(\u001b[0m\u001b[0mdataset_hc\u001b[0m\u001b[0;34m,\u001b[0m \u001b[0;36m1\u001b[0m \u001b[0;34m,\u001b[0m \u001b[0;36m1e-7\u001b[0m\u001b[0;34m)\u001b[0m\u001b[0;34m\u001b[0m\u001b[0;34m\u001b[0m\u001b[0m\n\u001b[0m",
      "\u001b[0;32m/usr/local/lib/python3.6/dist-packages/Opt_HC_CG/hill.py\u001b[0m in \u001b[0;36mbest_solution\u001b[0;34m(points, initial_point, tolerance)\u001b[0m\n\u001b[1;32m     78\u001b[0m             \u001b[0mbest_distance\u001b[0m \u001b[0;34m=\u001b[0m \u001b[0mdistance\u001b[0m\u001b[0;34m\u001b[0m\u001b[0;34m\u001b[0m\u001b[0m\n\u001b[1;32m     79\u001b[0m             \u001b[0mbest_sol\u001b[0m \u001b[0;34m=\u001b[0m \u001b[0msolution\u001b[0m\u001b[0;34m\u001b[0m\u001b[0;34m\u001b[0m\u001b[0m\n\u001b[0;32m---> 80\u001b[0;31m         \u001b[0msolution\u001b[0m \u001b[0;34m=\u001b[0m \u001b[0mother_solution\u001b[0m\u001b[0;34m(\u001b[0m\u001b[0mpoints\u001b[0m\u001b[0;34m,\u001b[0m \u001b[0mpos_sol\u001b[0m\u001b[0;34m,\u001b[0m \u001b[0minitial_point\u001b[0m\u001b[0;34m)\u001b[0m\u001b[0;34m\u001b[0m\u001b[0;34m\u001b[0m\u001b[0m\n\u001b[0m\u001b[1;32m     81\u001b[0m         \u001b[0mpos_sol\u001b[0m\u001b[0;34m.\u001b[0m\u001b[0mappend\u001b[0m\u001b[0;34m(\u001b[0m\u001b[0msolution\u001b[0m\u001b[0;34m)\u001b[0m\u001b[0;34m\u001b[0m\u001b[0;34m\u001b[0m\u001b[0m\n\u001b[1;32m     82\u001b[0m         \u001b[0mdistance\u001b[0m  \u001b[0;34m=\u001b[0m \u001b[0mcalculate_distance\u001b[0m\u001b[0;34m(\u001b[0m\u001b[0mpoints\u001b[0m\u001b[0;34m,\u001b[0m \u001b[0msolution\u001b[0m\u001b[0;34m)\u001b[0m\u001b[0;34m\u001b[0m\u001b[0;34m\u001b[0m\u001b[0m\n",
      "\u001b[0;32m/usr/local/lib/python3.6/dist-packages/Opt_HC_CG/hill.py\u001b[0m in \u001b[0;36mother_solution\u001b[0;34m(points, pos_sol, initial_point)\u001b[0m\n\u001b[1;32m     59\u001b[0m     \u001b[0mtemp_sol\u001b[0m \u001b[0;34m=\u001b[0m \u001b[0mrandom_solution\u001b[0m\u001b[0;34m(\u001b[0m\u001b[0mpoints\u001b[0m\u001b[0;34m,\u001b[0m \u001b[0minitial_point\u001b[0m\u001b[0;34m)\u001b[0m\u001b[0;34m\u001b[0m\u001b[0;34m\u001b[0m\u001b[0m\n\u001b[1;32m     60\u001b[0m \u001b[0;34m\u001b[0m\u001b[0m\n\u001b[0;32m---> 61\u001b[0;31m     \u001b[0;32mif\u001b[0m \u001b[0mtemp_sol\u001b[0m \u001b[0;32min\u001b[0m \u001b[0mpos_sol\u001b[0m\u001b[0;34m:\u001b[0m\u001b[0;34m\u001b[0m\u001b[0;34m\u001b[0m\u001b[0m\n\u001b[0m\u001b[1;32m     62\u001b[0m         \u001b[0mtemp_sol\u001b[0m \u001b[0;34m=\u001b[0m \u001b[0mother_solution\u001b[0m\u001b[0;34m(\u001b[0m\u001b[0mpoints\u001b[0m\u001b[0;34m,\u001b[0m \u001b[0mpos_sol\u001b[0m\u001b[0;34m,\u001b[0m \u001b[0minitial_point\u001b[0m\u001b[0;34m)\u001b[0m\u001b[0;34m\u001b[0m\u001b[0;34m\u001b[0m\u001b[0m\n\u001b[1;32m     63\u001b[0m     \u001b[0;32melse\u001b[0m\u001b[0;34m:\u001b[0m\u001b[0;34m\u001b[0m\u001b[0;34m\u001b[0m\u001b[0m\n",
      "\u001b[0;31mKeyboardInterrupt\u001b[0m: "
     ]
    }
   ],
   "source": [
    "best_distance, bes_path, routes_tried = opt.best_solution(dataset_hc, 1 , 1e-7)"
   ]
  },
  {
   "cell_type": "markdown",
   "metadata": {
    "tags": []
   },
   "source": [
    "**Resultados:**\n",
    "\n",
    "   > Con base en Hill Climbing para las 9 primeras ciudades de nuestro dataset se tiene:"
   ]
  },
  {
   "cell_type": "code",
   "execution_count": null,
   "metadata": {
    "tags": [
     "block:printresult1",
     "prev:solve1"
    ]
   },
   "outputs": [],
   "source": [
    "print(\"\\n * Distancia más corta:\\t\", best_distance)\n",
    "print(\"\\n * Ruta óptima (nodos-ciudad):\\t\", bes_path)\n",
    "print(\"\\n * Rutas analizadas:\\t\", len(routes_tried))"
   ]
  },
  {
   "cell_type": "markdown",
   "metadata": {
    "tags": []
   },
   "source": [
    "----\n",
    "\n",
    "**Segunda selección de parámetros:**\n",
    "> * Punto inicial: 5\n",
    "> * Tolerancia: 1e-9"
   ]
  },
  {
   "cell_type": "code",
   "execution_count": null,
   "metadata": {
    "tags": [
     "block:solve2",
     "prev:cleaner"
    ]
   },
   "outputs": [],
   "source": [
    "best_distance2, bes_path2, routes_tried2 = opt.best_solution(dataset_hc, 5 , 1e-9)"
   ]
  },
  {
   "cell_type": "markdown",
   "metadata": {
    "tags": []
   },
   "source": [
    "**Resultados:**\n",
    "\n",
    "   > Con base en Hill Climbing para las 9 primeras ciudades de nuestro dataset se tiene:"
   ]
  },
  {
   "cell_type": "code",
   "execution_count": null,
   "metadata": {
    "tags": [
     "block:printresult2",
     "prev:solve2"
    ]
   },
   "outputs": [],
   "source": [
    "print(\"\\n * Distancia más corta:\\t\", best_distance2)\n",
    "print(\"\\n * Ruta óptima (nodos-ciudad):\\t\", bes_path2)\n",
    "print(\"\\n * Rutas analizadas:\\t\", len(routes_tried2))"
   ]
  },
  {
   "cell_type": "markdown",
   "metadata": {
    "tags": []
   },
   "source": [
    "----\n",
    "\n",
    "**Tercer selección de parámetros:**\n",
    "> * Punto inicial: 7\n",
    "> * Tolerancia: 1e-11"
   ]
  },
  {
   "cell_type": "code",
   "execution_count": null,
   "metadata": {
    "tags": [
     "block:solve3",
     "prev:cleaner"
    ]
   },
   "outputs": [],
   "source": [
    "best_distance2, bes_path2, routes_tried2 = opt.best_solution(dataset_hc, 7 , 1e-11)"
   ]
  },
  {
   "cell_type": "markdown",
   "metadata": {
    "tags": []
   },
   "source": [
    "**Resultados:**\n",
    "\n",
    "   > Con base en Hill Climbing para las 9 primeras ciudades de nuestro dataset se tiene:"
   ]
  },
  {
   "cell_type": "code",
   "execution_count": null,
   "metadata": {
    "tags": [
     "block:printresult3",
     "prev:solve3"
    ]
   },
   "outputs": [],
   "source": [
    "print(\"\\n * Distancia más corta:\\t\", best_distance2)\n",
    "print(\"\\n * Ruta óptima (nodos-ciudad):\\t\", bes_path2)\n",
    "print(\"\\n * Rutas analizadas:\\t\", len(routes_tried2))"
   ]
  }
 ],
 "metadata": {
  "kernelspec": {
   "display_name": "Python 3",
   "language": "python",
   "name": "python3"
  },
  "kubeflow_notebook": {
   "autosnapshot": false,
   "docker_image": "lobolc/pkg:0.1",
   "experiment": {
    "id": "",
    "name": ""
   },
   "experiment_name": "",
   "katib_metadata": {
    "algorithm": {
     "algorithmName": "grid"
    },
    "maxFailedTrialCount": 3,
    "maxTrialCount": 12,
    "objective": {
     "objectiveMetricName": "",
     "type": "minimize"
    },
    "parallelTrialCount": 3,
    "parameters": []
   },
   "katib_run": false,
   "pipeline_description": "Solve TSP by HC 11 cities",
   "pipeline_name": "experimtsphc11",
   "snapshot_volumes": false,
   "steps_defaults": [],
   "volume_access_mode": "rwm",
   "volumes": [
    {
     "annotations": [],
     "mount_point": "/shared_volume/",
     "name": "hostpath-pvc",
     "size": 1,
     "size_type": "Gi",
     "snapshot": false,
     "snapshot_name": "",
     "type": "pvc"
    }
   ]
  },
  "language_info": {
   "codemirror_mode": {
    "name": "ipython",
    "version": 3
   },
   "file_extension": ".py",
   "mimetype": "text/x-python",
   "name": "python",
   "nbconvert_exporter": "python",
   "pygments_lexer": "ipython3",
   "version": "3.6.9"
  }
 },
 "nbformat": 4,
 "nbformat_minor": 4
}
